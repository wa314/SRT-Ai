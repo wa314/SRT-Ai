{
 "cells": [
  {
   "cell_type": "code",
   "execution_count": null,
   "id": "d5c29d74",
   "metadata": {},
   "outputs": [],
   "source": [
    "import numpy as np\n",
    "\n",
    "# The range of the velocity and density values come from sedimentary rocks lab measurements:\n",
    "# Velocity values (increase with increment of 100):\n",
    "velocity = []\n",
    "for v in range(2000, 6001, 100):\n",
    "    vel = v\n",
    "    velocity.append(vel)\n",
    "\n",
    "# Density values (increase with increment of 0.02):\n",
    "density = [1.6]\n",
    "for d in density:\n",
    "    den = d + 0.02\n",
    "    if den <= 2.9:\n",
    "        den = round(den, 2)\n",
    "        density.append(den)\n",
    "    else:\n",
    "        break\n",
    "\n",
    "# To create acoustic impedance list:\n",
    "impedance = []\n",
    "for a in velocity:\n",
    "    for b in density:\n",
    "        mult = round(a * b)\n",
    "        impedance.append(mult)"
   ]
  }
 ],
 "metadata": {
  "kernelspec": {
   "display_name": "Python 3 (ipykernel)",
   "language": "python",
   "name": "python3"
  },
  "language_info": {
   "codemirror_mode": {
    "name": "ipython",
    "version": 3
   },
   "file_extension": ".py",
   "mimetype": "text/x-python",
   "name": "python",
   "nbconvert_exporter": "python",
   "pygments_lexer": "ipython3",
   "version": "3.10.12"
  }
 },
 "nbformat": 4,
 "nbformat_minor": 5
}
