{
 "cells": [
  {
   "cell_type": "code",
   "execution_count": null,
   "id": "72516c77",
   "metadata": {},
   "outputs": [],
   "source": [
    "import bruges as bg\n",
    "# Frequencies value (increase with increment of 5 Hz):\n",
    "\n",
    "wavelets = []\n",
    "for w in range(30, 81, 5):\n",
    "    ricker, t = bg.filters.ricker(duration = 0.098, dt = 0.001, f = w)\n",
    "    wavelets.append(ricker)"
   ]
  }
 ],
 "metadata": {
  "kernelspec": {
   "display_name": "Python 3 (ipykernel)",
   "language": "python",
   "name": "python3"
  },
  "language_info": {
   "codemirror_mode": {
    "name": "ipython",
    "version": 3
   },
   "file_extension": ".py",
   "mimetype": "text/x-python",
   "name": "python",
   "nbconvert_exporter": "python",
   "pygments_lexer": "ipython3",
   "version": "3.10.12"
  }
 },
 "nbformat": 4,
 "nbformat_minor": 5
}
