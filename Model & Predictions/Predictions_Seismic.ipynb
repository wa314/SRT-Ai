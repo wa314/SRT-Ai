{
 "cells": [
  {
   "cell_type": "code",
   "execution_count": null,
   "id": "c56e9045",
   "metadata": {},
   "outputs": [],
   "source": [
    "import numpy as np\n",
    "from numpy.lib.stride_tricks import as_strided\n",
    "import matplotlib.pyplot as plt\n",
    "from matplotlib.colors import Normalize\n",
    "\n",
    "from PIL import Image\n",
    "from skimage.color import rgb2gray\n",
    "from scipy.ndimage import zoom\n",
    "\n",
    "import tensorflow as tf\n",
    "from tensorflow import keras"
   ]
  },
  {
   "cell_type": "code",
   "execution_count": null,
   "id": "927bc382",
   "metadata": {},
   "outputs": [],
   "source": [
    "seismic_rgb = Image.open('seismic.jpg')"
   ]
  },
  {
   "cell_type": "code",
   "execution_count": null,
   "id": "5ac98988",
   "metadata": {},
   "outputs": [],
   "source": [
    "image_original = seismic_rgb.resize((4000, 2000), Image.ANTIALIAS)"
   ]
  },
  {
   "cell_type": "code",
   "execution_count": null,
   "id": "6a56e68c",
   "metadata": {},
   "outputs": [],
   "source": [
    "seismic_gray_original = rgb2gray(image_original)"
   ]
  },
  {
   "cell_type": "code",
   "execution_count": null,
   "id": "9b91a0df",
   "metadata": {},
   "outputs": [],
   "source": [
    "seismic_sliced_original = seismic_gray_original[600:1370, 500:3500]"
   ]
  },
  {
   "cell_type": "code",
   "execution_count": null,
   "id": "44cad64f",
   "metadata": {},
   "outputs": [],
   "source": [
    "def standardization(data):\n",
    "    positive = data + (-1 * np.amin(data))\n",
    "    norm = positive / np.amax(positive)\n",
    "    center = norm - np.mean(norm)\n",
    "    standard = (center - np.mean(center)) / np.std(center, dtype=np.float32)\n",
    "    return standard"
   ]
  },
  {
   "cell_type": "code",
   "execution_count": null,
   "id": "340f69b3",
   "metadata": {},
   "outputs": [],
   "source": [
    "seismic_std_original = standardization(seismic_sliced_original)"
   ]
  },
  {
   "cell_type": "code",
   "execution_count": null,
   "id": "d21abc66",
   "metadata": {},
   "outputs": [],
   "source": [
    "path = 'to_model'\n",
    "model = tf.keras.models.load_model(f'{path}/SRT-Ai/')"
   ]
  },
  {
   "cell_type": "code",
   "execution_count": null,
   "id": "20ae9705",
   "metadata": {},
   "outputs": [],
   "source": [
    "def sliding_window_view(arr, window_shape, step):\n",
    "    \"\"\"\n",
    "    Generate a view of 'arr' with windows of 'window_shape' moved by 'step'.\n",
    "    Parameters:\n",
    "    arr: Input array.\n",
    "    window_shape: The shape of the desired window.\n",
    "    step: The step size or stride between windows in each dimension.\n",
    " \n",
    "    Returns:\n",
    "    A view into 'arr' with the given window shape and step.\n",
    "    \"\"\"\n",
    " \n",
    "    arr_shape = np.array(arr.shape)\n",
    "    window_shape = np.array(window_shape)\n",
    "    steps = np.array(step)\n",
    " \n",
    "    # Calculate new_shape considering the step and window shape\n",
    "    new_shape = ((arr_shape - window_shape) // steps) + 1\n",
    " \n",
    "    # Calculate new_strides considering the original strides and the step\n",
    "    new_strides = tuple(arr.strides * steps)\n",
    " \n",
    "    # Adjust shape and strides for as_strided\n",
    "    adjusted_shape = tuple(new_shape) + tuple(window_shape)\n",
    "    adjusted_strides = tuple(new_strides) + tuple(arr.strides)\n",
    " \n",
    "    return as_strided(arr, shape=adjusted_shape, strides=adjusted_strides)"
   ]
  },
  {
   "cell_type": "code",
   "execution_count": null,
   "id": "335108ad",
   "metadata": {},
   "outputs": [],
   "source": [
    "# Test the function with the specified parameters\n",
    "array_original = seismic_std_original.T\n",
    "window_shape = (200, 99)                            # Shape of the window\n",
    "step = (10, 3)                                      # Step size\n",
    " \n",
    "# Generate the windows\n",
    "windows_original = sliding_window_view(array_original, window_shape, step)\n",
    " \n",
    "# Output the shape of the resulting windows array\n",
    "windows_original.shape"
   ]
  },
  {
   "cell_type": "code",
   "execution_count": null,
   "id": "14da5850",
   "metadata": {},
   "outputs": [],
   "source": [
    "# Original size predictions:\n",
    "\n",
    "predictions_original = []\n",
    "\n",
    "for i in range(len(windows_original[0])):\n",
    "    for j in range(len(windows_original[1])):\n",
    "        array_original = windows_original[i,j].T\n",
    "        expanded_original = np.expand_dims(array_original, axis=0)\n",
    "        expanded_original = np.expand_dims(expanded_original, axis=3)\n",
    "        pred = model.predict(expanded_original)\n",
    "        predictions_original.append(pred);"
   ]
  },
  {
   "cell_type": "code",
   "execution_count": null,
   "id": "920712d7",
   "metadata": {},
   "outputs": [],
   "source": [
    "pred_array = np.array(predictions_original)"
   ]
  },
  {
   "cell_type": "code",
   "execution_count": null,
   "id": "0c76e0cd",
   "metadata": {},
   "outputs": [],
   "source": [
    "pred_CTclass = pred_array.reshape(len(windows_original[0]), len(windows_original[1]), 2)[:,:,1]"
   ]
  },
  {
   "cell_type": "code",
   "execution_count": null,
   "id": "10278833",
   "metadata": {},
   "outputs": [],
   "source": [
    "def resample_array(source_array, target_array):\n",
    "    # Calculate the scaling factors for each dimension\n",
    "    scaling_factors = np.array(target_array.shape) / np.array(source_array.shape)\n",
    "    \n",
    "    # Resample the source array to match the target array shape\n",
    "    resampled_array = zoom(source_array, zoom=scaling_factors, order=3, mode='reflect')\n",
    "    \n",
    "    return resampled_array"
   ]
  },
  {
   "cell_type": "code",
   "execution_count": null,
   "id": "9e1b9cf0",
   "metadata": {},
   "outputs": [],
   "source": [
    "resampled_pred_CTclass = resample_array(pred_CTclass.T, seismic_std_original)"
   ]
  },
  {
   "cell_type": "code",
   "execution_count": null,
   "id": "92e433fa",
   "metadata": {},
   "outputs": [],
   "source": [
    "# Transparency:\n",
    "alphas = Normalize(0, 0.1, clip=True)(np.abs(resampled_pred_CTclass))\n",
    "\n",
    "plt.figure(figsize=(20, 10))\n",
    "plt.imshow(seismic_std_original, 'gray', vmin = -1, vmax = 1)\n",
    "plt.imshow(resampled_resampled_pred_CTclass, vmin = 0, vmax = 1, alpha=alphas*0.4)\n",
    "plt.colorbar(shrink=0.4)\n",
    "\n",
    "plt.show()"
   ]
  }
 ],
 "metadata": {
  "kernelspec": {
   "display_name": "Python 3 (ipykernel)",
   "language": "python",
   "name": "python3"
  },
  "language_info": {
   "codemirror_mode": {
    "name": "ipython",
    "version": 3
   },
   "file_extension": ".py",
   "mimetype": "text/x-python",
   "name": "python",
   "nbconvert_exporter": "python",
   "pygments_lexer": "ipython3",
   "version": "3.10.12"
  }
 },
 "nbformat": 4,
 "nbformat_minor": 5
}
