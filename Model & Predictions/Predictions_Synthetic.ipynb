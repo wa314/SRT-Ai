{
 "cells": [
  {
   "cell_type": "code",
   "execution_count": null,
   "id": "a6014d78",
   "metadata": {},
   "outputs": [],
   "source": [
    "import numpy as np\n",
    "import matplotlib.pyplot as plt\n",
    "\n",
    "import tensorflow as tf\n",
    "from tensorflow import keras\n",
    "\n",
    "from sklearn.metrics import accuracy_score\n",
    "from sklearn.metrics import confusion_matrix\n",
    "\n",
    "import random as rn\n",
    "import seaborn as sns"
   ]
  },
  {
   "cell_type": "code",
   "execution_count": null,
   "id": "1ef1894f",
   "metadata": {},
   "outputs": [],
   "source": [
    "directory = 'path'\n",
    "\n",
    "testing_data = np.load(f'{directory}/data_test.npy')\n",
    "testing_labels = np.load(f'{directory}/labels_test.npy')"
   ]
  },
  {
   "cell_type": "code",
   "execution_count": null,
   "id": "24f105de",
   "metadata": {},
   "outputs": [],
   "source": [
    "def standardization(data):\n",
    "    standardized = []\n",
    "    for i in range(len(data)):\n",
    "        positive = data[i] + (-1 * np.amin(data[i]))\n",
    "        norm = positive / np.amax(positive)\n",
    "        center = norm - np.mean(norm)\n",
    "        standard = (center - np.mean(center)) / np.std(center, dtype=np.float32)\n",
    "        standardized.append(standard)\n",
    "    return np.asarray(standardized)"
   ]
  },
  {
   "cell_type": "code",
   "execution_count": null,
   "id": "a16d436a",
   "metadata": {},
   "outputs": [],
   "source": [
    "testing_data_std = standardization(testing_data)"
   ]
  },
  {
   "cell_type": "code",
   "execution_count": null,
   "id": "894451b7",
   "metadata": {},
   "outputs": [],
   "source": [
    "path = 'to_model'\n",
    "model = tf.keras.models.load_model(f'{path}/SRT-Ai/')"
   ]
  },
  {
   "cell_type": "code",
   "execution_count": null,
   "id": "de6ba71c",
   "metadata": {},
   "outputs": [],
   "source": [
    "predictions_synthetic = model.predict(testing_data_std)"
   ]
  },
  {
   "cell_type": "code",
   "execution_count": null,
   "id": "3fb88f37",
   "metadata": {},
   "outputs": [],
   "source": [
    "y_testing = keras.utils.to_categorical(testing_labels)"
   ]
  },
  {
   "cell_type": "code",
   "execution_count": null,
   "id": "ce2ca386",
   "metadata": {},
   "outputs": [],
   "source": [
    "confusion_synthetic = confusion_matrix(np.argmax(y_testing, axis=1), np.argmax(predictions_synthetic, axis=1))"
   ]
  },
  {
   "cell_type": "code",
   "execution_count": null,
   "id": "585dc908",
   "metadata": {},
   "outputs": [],
   "source": [
    "sns.set(rc={'figure.figsize':(10,10)})\n",
    "ax = sns.heatmap(confusion_synthetic, annot=True, cmap='Blues', fmt='g', cbar=False)\n",
    "\n",
    "ax.set_xlabel('\\nPredicted Class', fontsize='24', weight='bold')\n",
    "ax.set_ylabel('Actual Class\\n', fontsize='24', weight='bold');\n",
    "\n",
    "ax.xaxis.set_ticklabels(['No Termination', 'Contains Termination'], fontsize='18')\n",
    "ax.yaxis.set_ticklabels(['No Termination', 'Contains Termination'], fontsize='18')\n",
    "\n",
    "plt.show()"
   ]
  },
  {
   "cell_type": "code",
   "execution_count": null,
   "id": "df2c532f",
   "metadata": {},
   "outputs": [],
   "source": [
    "normalized_synthetic_cm = confusion_synthetic.astype('float')/confusion_synthetic.sum(axis=1)[:, np.newaxis]\n",
    "\n",
    "sns.set(rc={'figure.figsize':(10,10)})\n",
    "ax = sns.heatmap(normalized_synthetic_cm, annot=True, cmap='Blues', fmt='.2%', cbar=False)\n",
    "\n",
    "ax.set_xlabel('\\nPredicted Class', fontsize='24', weight='bold')\n",
    "ax.set_ylabel('Actual Class\\n', fontsize='24', weight='bold');\n",
    "\n",
    "ax.xaxis.set_ticklabels(['No Termination', 'Contains Termination'], fontsize='18')\n",
    "ax.yaxis.set_ticklabels(['No Termination', 'Contains Termination'], fontsize='18')\n",
    "\n",
    "plt.show()"
   ]
  }
 ],
 "metadata": {
  "kernelspec": {
   "display_name": "Python 3 (ipykernel)",
   "language": "python",
   "name": "python3"
  },
  "language_info": {
   "codemirror_mode": {
    "name": "ipython",
    "version": 3
   },
   "file_extension": ".py",
   "mimetype": "text/x-python",
   "name": "python",
   "nbconvert_exporter": "python",
   "pygments_lexer": "ipython3",
   "version": "3.10.12"
  }
 },
 "nbformat": 4,
 "nbformat_minor": 5
}
